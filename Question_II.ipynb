{
 "cells": [
  {
   "cell_type": "markdown",
   "metadata": {},
   "source": [
    "### Question 2\n",
    "\n",
    "The file ‘FTSE_sample.mat’ contains minute market order (MO) as well as bestbid and best ask prices at the end of every minute of a FTSE constituent duringthe 2008 financial crisis.\n",
    "- Calculate minutely returns of the stock based on mid-price and reportsummary statistics.\n",
    "- Plot autocorrelation function of minutely order flows up to 20 lags. Analyse your result. Order flow is defined as net MO within each minute.\n",
    "- Regress minutely return on return of previous minute and thecontemporaneous order flow. Interpret your regression results and their implications.\n",
    "- Develop a trading strategy based on cumulative order flows of previous 30minutes. Estimate the cumulative return of your trading strategy.\n",
    "- Compare the return of your strategy and the return of the stock during thewhole period. Why do you make (lose) money by implementing this trading strategy?"
   ]
  },
  {
   "cell_type": "code",
   "execution_count": null,
   "metadata": {},
   "outputs": [],
   "source": []
  }
 ],
 "metadata": {
  "language_info": {
   "name": "python"
  }
 },
 "nbformat": 4,
 "nbformat_minor": 2
}
