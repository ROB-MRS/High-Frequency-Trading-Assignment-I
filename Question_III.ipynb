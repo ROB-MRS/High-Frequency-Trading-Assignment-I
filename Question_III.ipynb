{
 "cells": [
  {
   "cell_type": "markdown",
   "metadata": {},
   "source": [
    "This question is based on Glosten-Milgrom (1985) model of information asymmetry in trading. The setting is as follows:\n",
    "- The market maker(MM) quotes a bid B and ask A at time t=0; \n",
    "- The security has intrinsic value V=VH (with probability p ) or VL (with probability 1-p), VH > VL;\n",
    "- At time t=0, traders (including informed traders and liquidity traders) take action S (buy/sell one share of the security from MM).  \n",
    "- The proportion of informed traders is α and the proportion of liquidity trades is 1- α;\n",
    "- Informed traders know V at t=0;\n",
    "- Liquidity traders buy and sell with equal probabilities.\n",
    "- MM does not know whether the order comes from an informed trader or a liquidity trader.\n",
    "    - What are the probabilities that MM receives a coming buy order if  V=VH and V= VL respectively?\n",
    "    - What are the probabilities that MM receives a coming sell order if  V=VH and V= VL respectively?\n",
    "    - According to Bayes Theorem, What is the probability that V=VH given that MM receives a buy order? What is the probability that V= VL given that MM receives a buy order?\n",
    "    - According to Bayes Theorem, What is the probability that V=VH given that MM receives a sell order? What is the probability that V= VL given that MM receives a sell order?\n",
    "    - If competition among MMs narrows their profit to 0, which means A equals to the expected value of V if the coming order is to buy (and thus the MM is to sell) , what is A?\n",
    "    - If competition among MMs narrows their profit to 0, which means B equals to the expected value of V if the coming order is to sell (and thus the MM is to buy), what is B?\n",
    "    - Assume that time is discrete, trading happens sequentially at t=0,1,2,3,4…. After each trade, the MM updates beliefs about V and sets A and B. What is A(k+l) and B(k+l) after k buys and l sells?\n",
    "    - If p=0.2, α=0.8, simulate the case (for at least 50 times) if V=VH =2 (while VL =1). Plot A and B against time."
   ]
  },
  {
   "cell_type": "code",
   "execution_count": null,
   "metadata": {},
   "outputs": [],
   "source": []
  }
 ],
 "metadata": {
  "language_info": {
   "name": "python"
  }
 },
 "nbformat": 4,
 "nbformat_minor": 2
}
